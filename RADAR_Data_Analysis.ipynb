{
 "cells": [
  {
   "cell_type": "markdown",
   "metadata": {},
   "source": [
    "# Part2 - RADAR Data Visualization and Analysis"
   ]
  },
  {
   "cell_type": "code",
   "execution_count": null,
   "metadata": {},
   "outputs": [],
   "source": [
    "%matplotlib inline\n",
    "\n",
    "import numpy as np\n",
    "import random\n",
    "import matplotlib.pyplot as plt\n",
    "import math\n",
    "import os"
   ]
  },
  {
   "cell_type": "markdown",
   "metadata": {},
   "source": [
    "## Overview of RADAR data\n",
    "Please follow this [link](https://drive.google.com/drive/folders/1vJF8ljsGMV4Nrny7E5y_mmwjWq5oopeH?usp=sharing) to find and download RADAR data that I am going to use in this notebook. This data was originally shared in this [github repositorty](https://github.com/povilasDadelo/Material-classification.git).\n",
    "\n",
    "This data can used for 2 different applications: \n",
    "   1. Object recognition \n",
    "   2. Material classification \n",
    "In this notebook, I will be only visualizing, transforming and analysing signal from different subforlders.\n",
    "\n",
    "The data folder contains subfolders for  different objects(Materials). Once you run the below section, you will be requested to prodvide material that you want to visualize its data.\n"
   ]
  },
  {
   "cell_type": "code",
   "execution_count": null,
   "metadata": {},
   "outputs": [],
   "source": [
    "data_path = \"/home/issa/Documents/data\"\n",
    "os.chdir(data_path)\n",
    "material = input(\"Enter material: \")\n",
    "material = material.lower()"
   ]
  },
  {
   "cell_type": "code",
   "execution_count": null,
   "metadata": {},
   "outputs": [],
   "source": [
    "os.chdir(material)\n",
    "items_list = os.listdir()\n",
    "nbr_items = len(items_list)\n"
   ]
  },
  {
   "cell_type": "code",
   "execution_count": null,
   "metadata": {},
   "outputs": [],
   "source": [
    "material_sig_idx = random.randint(1,nbr_items) ;\n",
    "material_sig = np.load(items_list[material_sig_idx])"
   ]
  },
  {
   "cell_type": "markdown",
   "metadata": {},
   "source": [
    "## Visualization in time domain"
   ]
  },
  {
   "cell_type": "code",
   "execution_count": null,
   "metadata": {},
   "outputs": [],
   "source": [
    "# Randomly select and plot signal for to selected object\n",
    "plt.figure(figsize = (10,5))\n",
    "plt.plot(np.transpose(material_sig))\n",
    "plt.xlabel('Time')\n",
    "plt.ylabel('Amplitude')\n",
    "plt.title(material.upper() + ': sig_' + str(material_sig_idx))\n",
    "plt.legend([\"RX1\", \"RX2\", \"RX3\"])\n",
    "plt.show()"
   ]
  },
  {
   "cell_type": "code",
   "execution_count": null,
   "metadata": {},
   "outputs": [],
   "source": [
    "# Plot all the signals in the selected folder \n",
    "fig, axs = plt.subplots(2, 4, facecolor = 'w')\n",
    "fig.set_figheight(6)\n",
    "fig.set_figwidth(12)\n",
    "axs = axs.ravel()\n",
    "\n",
    "for ii in range(nbr_items):\n",
    "    obj_signal = np.load(items_list[ii])\n",
    "    axs[ii].plot(np.transpose(obj_signal))\n",
    "    axs[ii].legend([\"RX1\", \"RX2\", \"RX3\"])\n",
    "plt.suptitle(\"Object: \" + material.upper(), fontsize = 16, fontweight = 'bold')\n",
    "plt.show()"
   ]
  },
  {
   "cell_type": "code",
   "execution_count": null,
   "metadata": {},
   "outputs": [],
   "source": [
    "# Change directory to data directoryand list of subfolders names\n",
    "folders = os.listdir(os.chdir('/home/issa/Documents/data'))\n",
    "len_fold = len(folders)\n",
    "\n",
    "# Randomly from each folder get a signal and plot it\n",
    "fig, axs = plt.subplots(2, round(len_fold/2), facecolor = 'w')\n",
    "fig.set_figheight(8)\n",
    "fig.set_figwidth(16)\n",
    "axs = axs.ravel()\n",
    "\n",
    "for  fold_idx, folder in enumerate(folders):\n",
    "    selected_sig  = np.load(folder + '/' + random.choice(os.listdir(os.getcwd()+ '/' + folder)))\n",
    "    axs[fold_idx].plot(np.transpose(selected_sig))\n",
    "    axs[fold_idx].set_title(folder)\n",
    "    axs[fold_idx].legend([\"RX1\", \"RX2\", \"RX3\"])\n",
    "    \n",
    "plt.show()"
   ]
  },
  {
   "cell_type": "markdown",
   "metadata": {},
   "source": [
    "## Spectral Analysis"
   ]
  },
  {
   "cell_type": "code",
   "execution_count": null,
   "metadata": {},
   "outputs": [],
   "source": []
  }
 ],
 "metadata": {
  "kernelspec": {
   "display_name": "Python 3.8.10 64-bit",
   "language": "python",
   "name": "python3"
  },
  "language_info": {
   "codemirror_mode": {
    "name": "ipython",
    "version": 3
   },
   "file_extension": ".py",
   "mimetype": "text/x-python",
   "name": "python",
   "nbconvert_exporter": "python",
   "pygments_lexer": "ipython3",
   "version": "3.8.10"
  },
  "orig_nbformat": 4,
  "vscode": {
   "interpreter": {
    "hash": "916dbcbb3f70747c44a77c7bcd40155683ae19c65e1c03b4aa3499c5328201f1"
   }
  }
 },
 "nbformat": 4,
 "nbformat_minor": 2
}
